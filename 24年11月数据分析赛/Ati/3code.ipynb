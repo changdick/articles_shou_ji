{
 "cells": [
  {
   "cell_type": "code",
   "execution_count": null,
   "metadata": {
    "vscode": {
     "languageId": "plaintext"
    }
   },
   "outputs": [],
   "source": [
    "\n",
    "import pandas as pd\n",
    "from statsmodels.tsa.seasonal import seasonal_decompose\n",
    "from statsmodels.tsa.stattools import adfuller\n",
    "import matplotlib.pyplot as plt\n",
    "from statsmodels.graphics.tsaplots import plot_acf, plot_pacf\n",
    "# 读入daily_stats_M101.csv\n",
    "df = pd.read_csv('daily_stats_M101.csv',  encoding='gbk') "
   ]
  },
  {
   "cell_type": "code",
   "execution_count": null,
   "metadata": {
    "vscode": {
     "languageId": "plaintext"
    }
   },
   "outputs": [],
   "source": [
    "# 读取数据并设置日期列为索引\n",
    "\n",
    "# data['日期'] = pd.to_datetime(data['月份'].astype(str) + '-' + data['日期'].astype(str), format='%m-%d')\n",
    "# data.set_index('日期', inplace=True)\n",
    "data = df.copy()\n",
    "\n",
    "# 绘制产品合格率和总产量的时间序列图\n",
    "plt.figure(figsize=(14, 6))\n",
    "plt.plot(data['合格率'], label='合格率')\n",
    "# plt.plot(data['总产品数'], label='总产品数')\n",
    "plt.legend()\n",
    "# plt.title('产品合格率和总产量时间序列')\n",
    "plt.title('产品合格率时间序列')\n",
    "plt.savefig('产品合格率时间序列.png')\n",
    "plt.show()\n",
    "\n",
    "# 季节性分解 - 产品合格率\n",
    "decompose_result_quality = seasonal_decompose(data['合格率'], model='additive', period=30)  # 假设月度周期\n",
    "decompose_result_quality.plot()\n",
    "plt.title('产品合格率季节性分解')\n",
    "plt.savefig('产品合格率季节性分解.png')\n",
    "plt.show()\n",
    "\n",
    "# # 季节性分解 - 总产量\n",
    "# decompose_result_output = seasonal_decompose(data['总产品数'], model='additive', period=30)  # 假设月度周期\n",
    "# decompose_result_output.plot()\n",
    "# plt.title('总产量季节性分解')\n",
    "# plt.savefig('总产量季节性分解.png')\n",
    "# plt.show()\n",
    "\n",
    "# 自相关与偏自相关图 - 产品合格率\n",
    "plot_acf(data['合格率'])\n",
    "plt.title('ACF for 产品合格率')\n",
    "plt.savefig('产品合格率acf.png')\n",
    "plt.show()\n",
    "\n",
    "plot_pacf(data['合格率'])\n",
    "plt.title('PACF for 产品合格率')\n",
    "plt.savefig('产品合格率pacf.png')\n",
    "plt.show()\n",
    "\n",
    "# 自相关与偏自相关图 - 总产量\n",
    "# plot_acf(data['总产品数'])\n",
    "# plt.title('ACF for 总产量')\n",
    "# plt.savefig('总产量acf.png')\n",
    "# plt.show()\n",
    "\n",
    "# plot_pacf(data['总产品数'])\n",
    "# plt.title('PACF for 总产量')\n",
    "# plt.savefig('总产量racf.png')\n",
    "# plt.show()"
   ]
  }
 ],
 "metadata": {
  "language_info": {
   "name": "python"
  }
 },
 "nbformat": 4,
 "nbformat_minor": 2
}
